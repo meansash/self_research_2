{
 "cells": [
  {
   "cell_type": "markdown",
   "metadata": {},
   "source": [
    "# Sample Notebook for Zero-Shot Inference with CheXzero\n",
    "This notebook walks through how to use CheXzero to perform zero-shot inference on a chest x-ray image dataset."
   ]
  },
  {
   "cell_type": "markdown",
   "metadata": {},
   "source": [
    "## Import Libraries"
   ]
  },
  {
   "cell_type": "code",
   "execution_count": 1,
   "metadata": {
    "ExecuteTime": {
     "end_time": "2025-02-26T05:22:45.846346Z",
     "start_time": "2025-02-26T05:22:42.300300Z"
    }
   },
   "outputs": [],
   "source": [
    "import os\n",
    "import numpy as np\n",
    "import pandas as pd\n",
    "from pathlib import Path\n",
    "from typing import List, Tuple, Optional\n",
    "\n",
    "import sys\n",
    "sys.path.append('../')\n",
    "import os\n",
    "\n",
    "os.environ[\"CUDA_DEVICE_ORDER\"]=\"PCI_BUS_ID\"\n",
    "os.environ[\"CUDA_VISIBLE_DEVICES\"] = \"6\"\n",
    "from eval import evaluate, bootstrap\n",
    "from zero_shot import make, make_true_labels, run_softmax_eval\n",
    "\n",
    "%load_ext autoreload\n",
    "%autoreload 2"
   ]
  },
  {
   "cell_type": "markdown",
   "metadata": {},
   "source": [
    "## Directories and Constants"
   ]
  },
  {
   "cell_type": "code",
   "outputs": [
    {
     "name": "stdout",
     "output_type": "stream",
     "text": [
      "총 샘플 개수 (행 개수): 234\n"
     ]
    }
   ],
   "source": [
    "# check CheXpert-v1.0-small/valid.csv's row\n",
    "import pandas as pd\n",
    "\n",
    "# CSV 파일 로드\n",
    "train_csv_path = \"../data/CheXpert-v1.0-small/valid.csv\"  # 실제 파일 경로로 변경\n",
    "df = pd.read_csv(train_csv_path)\n",
    "\n",
    "# 행 개수 출력\n",
    "print(f\"총 샘플 개수 (행 개수): {len(df)}\")"
   ],
   "metadata": {
    "collapsed": false,
    "ExecuteTime": {
     "end_time": "2025-02-26T05:22:45.893443Z",
     "start_time": "2025-02-26T05:22:45.848849Z"
    }
   },
   "execution_count": 2
  },
  {
   "cell_type": "code",
   "outputs": [
    {
     "name": "stdout",
     "output_type": "stream",
     "text": [
      "총 샘플 개수 (행 개수): 668\n"
     ]
    }
   ],
   "source": [
    "# check CheXpert/test_labels.csv's row\n",
    "import pandas as pd\n",
    "\n",
    "# CSV 파일 로드\n",
    "train_csv_path = \"../data/CheXpert/test_labels.csv\"  # 실제 파일 경로로 변경\n",
    "df = pd.read_csv(train_csv_path)\n",
    "\n",
    "# 행 개수 출력\n",
    "print(f\"총 샘플 개수 (행 개수): {len(df)}\")"
   ],
   "metadata": {
    "collapsed": false,
    "ExecuteTime": {
     "end_time": "2025-02-26T05:22:45.945860Z",
     "start_time": "2025-02-26T05:22:45.895026Z"
    }
   },
   "execution_count": 3
  },
  {
   "cell_type": "code",
   "outputs": [
    {
     "name": "stdout",
     "output_type": "stream",
     "text": [
      "총 샘플 개수 (행 개수): 234\n"
     ]
    }
   ],
   "source": [
    "# check CheXpert/val_labels.csv's row\n",
    "import pandas as pd\n",
    "\n",
    "# CSV 파일 로드\n",
    "train_csv_path = \"../data/CheXpert/val_labels.csv\"  # 실제 파일 경로로 변경\n",
    "df = pd.read_csv(train_csv_path)\n",
    "\n",
    "# 행 개수 출력\n",
    "print(f\"총 샘플 개수 (행 개수): {len(df)}\")"
   ],
   "metadata": {
    "collapsed": false,
    "ExecuteTime": {
     "end_time": "2025-02-26T05:22:45.998064Z",
     "start_time": "2025-02-26T05:22:45.947957Z"
    }
   },
   "execution_count": 4
  },
  {
   "cell_type": "code",
   "execution_count": 5,
   "metadata": {
    "ExecuteTime": {
     "end_time": "2025-02-26T05:22:46.050388Z",
     "start_time": "2025-02-26T05:22:46.000886Z"
    }
   },
   "outputs": [
    {
     "name": "stdout",
     "output_type": "stream",
     "text": [
      "['../checkpoints/pt-imp-adam2/checkpoint_125000.pt', '../checkpoints/pt-imp-adam2/checkpoint_140000.pt', '../checkpoints/pt-imp-adam2/checkpoint_80000.pt', '../checkpoints/pt-imp-adam2/checkpoint_65000.pt', '../checkpoints/pt-imp-adam2/checkpoint_150000.pt', '../checkpoints/pt-imp-adam2/checkpoint_75000.pt', '../checkpoints/pt-imp-adam2/checkpoint_170000.pt', '../checkpoints/pt-imp-adam2/checkpoint_95000.pt', '../checkpoints/pt-imp-adam2/checkpoint_155000.pt', '../checkpoints/pt-imp-adam2/checkpoint_70000.pt', '../checkpoints/pt-imp-adam2/checkpoint_40000.pt', '../checkpoints/pt-imp-adam2/checkpoint_85000.pt', '../checkpoints/pt-imp-adam2/checkpoint_105000.pt', '../checkpoints/pt-imp-adam2/checkpoint_30000.pt', '../checkpoints/pt-imp-adam2/checkpoint_145000.pt', '../checkpoints/pt-imp-adam2/checkpoint_55000.pt', '../checkpoints/pt-imp-adam2/checkpoint_100000.pt', '../checkpoints/pt-imp-adam2/checkpoint.pt', '../checkpoints/pt-imp-adam2/checkpoint_20000.pt', '../checkpoints/pt-imp-adam2/checkpoint_60000.pt', '../checkpoints/pt-imp-adam2/checkpoint_185000.pt', '../checkpoints/pt-imp-adam2/checkpoint_5000.pt', '../checkpoints/pt-imp-adam2/checkpoint_175000.pt', '../checkpoints/pt-imp-adam2/checkpoint_35000.pt', '../checkpoints/pt-imp-adam2/checkpoint_45000.pt', '../checkpoints/pt-imp-adam2/checkpoint_110000.pt', '../checkpoints/pt-imp-adam2/checkpoint_160000.pt', '../checkpoints/pt-imp-adam2/checkpoint_15000.pt', '../checkpoints/pt-imp-adam2/checkpoint_115000.pt', '../checkpoints/pt-imp-adam2/checkpoint_180000.pt', '../checkpoints/pt-imp-adam2/checkpoint_120000.pt', '../checkpoints/pt-imp-adam2/checkpoint_10000.pt', '../checkpoints/pt-imp-adam2/checkpoint_25000.pt', '../checkpoints/pt-imp-adam2/checkpoint_165000.pt', '../checkpoints/pt-imp-adam2/checkpoint_50000.pt', '../checkpoints/pt-imp-adam2/checkpoint_90000.pt', '../checkpoints/pt-imp-adam2/checkpoint_135000.pt', '../checkpoints/pt-imp-adam2/checkpoint_130000.pt']\n"
     ]
    }
   ],
   "source": [
    "## Define Zero Shot Labels and Templates\n",
    "\n",
    "# ----- DIRECTORIES ------ #\n",
    "cxr_filepath: str = '../data/chexpert_test.h5' # filepath of chest x-ray images (.h5)\n",
    "cxr_true_labels_path: Optional[str] = '../data/CheXpert/test_labels.csv' # (optional for evaluation) if labels are provided, provide path\n",
    "model_dir: str = '../checkpoints/pt-imp-adam' # where pretrained models are saved (.pt) \n",
    "predictions_dir: Path = Path('../predictions') # where to save predictions\n",
    "cache_dir: str = predictions_dir / \"cached\" # where to cache ensembled predictions\n",
    "\n",
    "context_length: int = 77\n",
    "\n",
    "# ------- LABELS ------  #\n",
    "# Define labels to query each image | will return a prediction for each label\n",
    "cxr_labels: List[str] = ['Atelectasis','Cardiomegaly', \n",
    "                                      'Consolidation', 'Edema', 'Enlarged Cardiomediastinum', 'Fracture', 'Lung Lesion',\n",
    "                                      'Lung Opacity', 'No Finding','Pleural Effusion', 'Pleural Other', 'Pneumonia', \n",
    "                                      'Pneumothorax', 'Support Devices']\n",
    "\n",
    "# ---- TEMPLATES ----- # \n",
    "# Define set of templates | see Figure 1 for more details                        \n",
    "cxr_pair_template: Tuple[str] = (\"{}\", \"no {}\")\n",
    "\n",
    "# ----- MODEL PATHS ------ #\n",
    "# If using ensemble, collect all model paths\n",
    "model_paths = []\n",
    "for subdir, dirs, files in os.walk(model_dir):\n",
    "    for file in files:\n",
    "        full_dir = os.path.join(subdir, file)\n",
    "        model_paths.append(full_dir)\n",
    "        \n",
    "print(model_paths)"
   ]
  },
  {
   "cell_type": "code",
   "outputs": [
    {
     "name": "stdout",
     "output_type": "stream",
     "text": [
      "['cxr']\n",
      "Dataset 'cxr' has length: 500\n"
     ]
    }
   ],
   "source": [
    "import h5py\n",
    "\n",
    "# 파일 열기\n",
    "cxr_filepath = \"../data/chexpert_test.h5\"  # 실제 파일 경로로 변경\n",
    "with h5py.File(cxr_filepath, \"r\") as f:\n",
    "    # 데이터셋 확인\n",
    "    print(list(f.keys()))  # 파일 내 데이터셋 이름 확인\n",
    "    dataset_name = list(f.keys())[0]  # 첫 번째 데이터셋 선택\n",
    "    \n",
    "    # 데이터 크기 출력\n",
    "    print(f\"Dataset '{dataset_name}' has length:\", len(f[dataset_name]))"
   ],
   "metadata": {
    "collapsed": false,
    "ExecuteTime": {
     "end_time": "2025-02-26T05:22:46.104490Z",
     "start_time": "2025-02-26T05:22:46.052736Z"
    }
   },
   "execution_count": 6
  },
  {
   "cell_type": "markdown",
   "metadata": {},
   "source": [
    "## Run Inference"
   ]
  },
  {
   "cell_type": "code",
   "execution_count": 7,
   "metadata": {
    "ExecuteTime": {
     "end_time": "2025-02-26T05:22:46.159311Z",
     "start_time": "2025-02-26T05:22:46.106062Z"
    }
   },
   "outputs": [],
   "source": [
    "## Run the model on the data set using ensembled models\n",
    "def ensemble_models(\n",
    "    model_paths: List[str], \n",
    "    cxr_filepath: str, \n",
    "    cxr_labels: List[str], \n",
    "    cxr_pair_template: Tuple[str], \n",
    "    cache_dir: str = None, \n",
    "    save_name: str = None,\n",
    ") -> Tuple[List[np.ndarray], np.ndarray]: \n",
    "    \"\"\"\n",
    "    Given a list of `model_paths`, ensemble model and return\n",
    "    predictions. Caches predictions at `cache_dir` if location provided.\n",
    "\n",
    "    Returns a list of each model's predictions and the averaged\n",
    "    set of predictions.\n",
    "    \"\"\"\n",
    "\n",
    "    predictions = []\n",
    "    model_paths = sorted(model_paths) # ensure consistency of \n",
    "    for path in model_paths: # for each model\n",
    "        model_name = Path(path).stem\n",
    "\n",
    "        # load in model and `torch.DataLoader`\n",
    "        model, loader = make(\n",
    "            model_path=path, \n",
    "            cxr_filepath=cxr_filepath, \n",
    "        ) \n",
    "        \n",
    "        # path to the cached prediction\n",
    "        if cache_dir is not None:\n",
    "            if save_name is not None: \n",
    "                cache_path = Path(cache_dir) / f\"{save_name}_{model_name}.npy\"\n",
    "            else: \n",
    "                cache_path = Path(cache_dir) / f\"{model_name}.npy\"\n",
    "\n",
    "        # if prediction already cached, don't recompute prediction\n",
    "        if cache_dir is not None and os.path.exists(cache_path): \n",
    "            print(\"Loading cached prediction for {}\".format(model_name))\n",
    "            y_pred = np.load(cache_path)\n",
    "        else: # cached prediction not found, compute preds\n",
    "            print(\"Inferring model {}\".format(path))\n",
    "            y_pred = run_softmax_eval(model, loader, cxr_labels, cxr_pair_template)\n",
    "            if cache_dir is not None: \n",
    "                Path(cache_dir).mkdir(exist_ok=True, parents=True)\n",
    "                np.save(file=cache_path, arr=y_pred)\n",
    "        predictions.append(y_pred)\n",
    "    \n",
    "    # compute average predictions\n",
    "    y_pred_avg = np.mean(predictions, axis=0)\n",
    "    \n",
    "    return predictions, y_pred_avg"
   ]
  },
  {
   "cell_type": "code",
   "execution_count": 8,
   "metadata": {
    "ExecuteTime": {
     "end_time": "2025-02-26T05:31:51.035082Z",
     "start_time": "2025-02-26T05:22:46.161191Z"
    }
   },
   "outputs": [
    {
     "name": "stdout",
     "output_type": "stream",
     "text": [
      "Inferring model ../checkpoints/pt-imp-adam2/checkpoint_75000.pt\n"
     ]
    },
    {
     "data": {
      "text/plain": "  0%|          | 0/1 [00:00<?, ?it/s]",
      "application/vnd.jupyter.widget-view+json": {
       "version_major": 2,
       "version_minor": 0,
       "model_id": "2afa6c4247984a0d8ddb96c120376b71"
      }
     },
     "metadata": {},
     "output_type": "display_data"
    },
    {
     "data": {
      "text/plain": "  0%|          | 0/500 [00:00<?, ?it/s]",
      "application/vnd.jupyter.widget-view+json": {
       "version_major": 2,
       "version_minor": 0,
       "model_id": "777442ff5e3c4719b40f3b0550a3b96f"
      }
     },
     "metadata": {},
     "output_type": "display_data"
    },
    {
     "name": "stderr",
     "output_type": "stream",
     "text": [
      "/home/meansash/.local/lib/python3.8/site-packages/torchvision/transforms/functional.py:1603: UserWarning: The default value of the antialias parameter of all the resizing transforms (Resize(), RandomResizedCrop(), etc.) will change from None to True in v0.17, in order to be consistent across the PIL and Tensor backends. To suppress this warning, directly pass antialias=True (recommended, future default), antialias=None (current default, which means False for Tensors and True for PIL), or antialias=False (only works on Tensors - PIL will still use antialiasing). This also applies if you are using the inference transforms from the models weights: update the call to weights.transforms(antialias=True).\n",
      "  warnings.warn(\n"
     ]
    },
    {
     "name": "stdout",
     "output_type": "stream",
     "text": [
      "features mean:  tensor(0.0007)\n",
      "features var:  tensor(6.4138e-17)\n"
     ]
    },
    {
     "data": {
      "text/plain": "  0%|          | 0/1 [00:00<?, ?it/s]",
      "application/vnd.jupyter.widget-view+json": {
       "version_major": 2,
       "version_minor": 0,
       "model_id": "3753efb1a0de46f3bd8def163c50087b"
      }
     },
     "metadata": {},
     "output_type": "display_data"
    },
    {
     "data": {
      "text/plain": "  0%|          | 0/500 [00:00<?, ?it/s]",
      "application/vnd.jupyter.widget-view+json": {
       "version_major": 2,
       "version_minor": 0,
       "model_id": "d6e6dbaa14e14911b64ee2ee6fe335e2"
      }
     },
     "metadata": {},
     "output_type": "display_data"
    },
    {
     "name": "stdout",
     "output_type": "stream",
     "text": [
      "features mean:  tensor(0.0007)\n",
      "features var:  tensor(6.4138e-17)\n"
     ]
    },
    {
     "data": {
      "text/plain": "  0%|          | 0/1 [00:00<?, ?it/s]",
      "application/vnd.jupyter.widget-view+json": {
       "version_major": 2,
       "version_minor": 0,
       "model_id": "7a83416b10374b328596e44d4803e08b"
      }
     },
     "metadata": {},
     "output_type": "display_data"
    },
    {
     "data": {
      "text/plain": "  0%|          | 0/500 [00:00<?, ?it/s]",
      "application/vnd.jupyter.widget-view+json": {
       "version_major": 2,
       "version_minor": 0,
       "model_id": "d5f96d11e1ef4c9fbe87d551353ba60a"
      }
     },
     "metadata": {},
     "output_type": "display_data"
    },
    {
     "name": "stdout",
     "output_type": "stream",
     "text": [
      "features mean:  tensor(0.0007)\n",
      "features var:  tensor(6.4138e-17)\n"
     ]
    },
    {
     "data": {
      "text/plain": "  0%|          | 0/1 [00:00<?, ?it/s]",
      "application/vnd.jupyter.widget-view+json": {
       "version_major": 2,
       "version_minor": 0,
       "model_id": "38443a9b2b1d458cafcd08e011ba3baf"
      }
     },
     "metadata": {},
     "output_type": "display_data"
    },
    {
     "data": {
      "text/plain": "  0%|          | 0/500 [00:00<?, ?it/s]",
      "application/vnd.jupyter.widget-view+json": {
       "version_major": 2,
       "version_minor": 0,
       "model_id": "561e28fbff0a4c3ea3f39202627e87d7"
      }
     },
     "metadata": {},
     "output_type": "display_data"
    },
    {
     "name": "stdout",
     "output_type": "stream",
     "text": [
      "features mean:  tensor(0.0007)\n",
      "features var:  tensor(6.4138e-17)\n"
     ]
    },
    {
     "data": {
      "text/plain": "  0%|          | 0/1 [00:00<?, ?it/s]",
      "application/vnd.jupyter.widget-view+json": {
       "version_major": 2,
       "version_minor": 0,
       "model_id": "9537a8d49d984aba8a7e0296a7b5f571"
      }
     },
     "metadata": {},
     "output_type": "display_data"
    },
    {
     "data": {
      "text/plain": "  0%|          | 0/500 [00:00<?, ?it/s]",
      "application/vnd.jupyter.widget-view+json": {
       "version_major": 2,
       "version_minor": 0,
       "model_id": "02eb8eb138d941798ca4edc987ddb395"
      }
     },
     "metadata": {},
     "output_type": "display_data"
    },
    {
     "name": "stdout",
     "output_type": "stream",
     "text": [
      "features mean:  tensor(0.0007)\n",
      "features var:  tensor(6.4138e-17)\n"
     ]
    },
    {
     "data": {
      "text/plain": "  0%|          | 0/1 [00:00<?, ?it/s]",
      "application/vnd.jupyter.widget-view+json": {
       "version_major": 2,
       "version_minor": 0,
       "model_id": "dd9abc99bc414001b14b7024d83b032e"
      }
     },
     "metadata": {},
     "output_type": "display_data"
    },
    {
     "data": {
      "text/plain": "  0%|          | 0/500 [00:00<?, ?it/s]",
      "application/vnd.jupyter.widget-view+json": {
       "version_major": 2,
       "version_minor": 0,
       "model_id": "6713afa4fe124bd48d2722c54968475b"
      }
     },
     "metadata": {},
     "output_type": "display_data"
    },
    {
     "name": "stdout",
     "output_type": "stream",
     "text": [
      "features mean:  tensor(0.0007)\n",
      "features var:  tensor(6.4138e-17)\n"
     ]
    },
    {
     "data": {
      "text/plain": "  0%|          | 0/1 [00:00<?, ?it/s]",
      "application/vnd.jupyter.widget-view+json": {
       "version_major": 2,
       "version_minor": 0,
       "model_id": "fb2b340359d6491996833a237f2766d7"
      }
     },
     "metadata": {},
     "output_type": "display_data"
    },
    {
     "data": {
      "text/plain": "  0%|          | 0/500 [00:00<?, ?it/s]",
      "application/vnd.jupyter.widget-view+json": {
       "version_major": 2,
       "version_minor": 0,
       "model_id": "abf4c9e1de554fc6aa4c30f518c61857"
      }
     },
     "metadata": {},
     "output_type": "display_data"
    },
    {
     "name": "stdout",
     "output_type": "stream",
     "text": [
      "features mean:  tensor(0.0007)\n",
      "features var:  tensor(6.4138e-17)\n"
     ]
    },
    {
     "data": {
      "text/plain": "  0%|          | 0/1 [00:00<?, ?it/s]",
      "application/vnd.jupyter.widget-view+json": {
       "version_major": 2,
       "version_minor": 0,
       "model_id": "ccaf7a8717f84e91a074deccb5b17107"
      }
     },
     "metadata": {},
     "output_type": "display_data"
    },
    {
     "data": {
      "text/plain": "  0%|          | 0/500 [00:00<?, ?it/s]",
      "application/vnd.jupyter.widget-view+json": {
       "version_major": 2,
       "version_minor": 0,
       "model_id": "12107247327d4f139cdfc197df84c8f5"
      }
     },
     "metadata": {},
     "output_type": "display_data"
    },
    {
     "name": "stdout",
     "output_type": "stream",
     "text": [
      "features mean:  tensor(0.0007)\n",
      "features var:  tensor(6.4138e-17)\n"
     ]
    },
    {
     "data": {
      "text/plain": "  0%|          | 0/1 [00:00<?, ?it/s]",
      "application/vnd.jupyter.widget-view+json": {
       "version_major": 2,
       "version_minor": 0,
       "model_id": "b1d29792c8af421cb8efcc1e4affe140"
      }
     },
     "metadata": {},
     "output_type": "display_data"
    },
    {
     "data": {
      "text/plain": "  0%|          | 0/500 [00:00<?, ?it/s]",
      "application/vnd.jupyter.widget-view+json": {
       "version_major": 2,
       "version_minor": 0,
       "model_id": "3464cca19f44415db0faaf54baeae15c"
      }
     },
     "metadata": {},
     "output_type": "display_data"
    },
    {
     "name": "stdout",
     "output_type": "stream",
     "text": [
      "features mean:  tensor(0.0007)\n",
      "features var:  tensor(6.4138e-17)\n"
     ]
    },
    {
     "data": {
      "text/plain": "  0%|          | 0/1 [00:00<?, ?it/s]",
      "application/vnd.jupyter.widget-view+json": {
       "version_major": 2,
       "version_minor": 0,
       "model_id": "2388036c28a14fcc89beba8fb4e586f1"
      }
     },
     "metadata": {},
     "output_type": "display_data"
    },
    {
     "data": {
      "text/plain": "  0%|          | 0/500 [00:00<?, ?it/s]",
      "application/vnd.jupyter.widget-view+json": {
       "version_major": 2,
       "version_minor": 0,
       "model_id": "f8e37a5fe0d44517ad13ed1bc9387721"
      }
     },
     "metadata": {},
     "output_type": "display_data"
    },
    {
     "name": "stdout",
     "output_type": "stream",
     "text": [
      "features mean:  tensor(0.0007)\n",
      "features var:  tensor(6.4138e-17)\n"
     ]
    },
    {
     "data": {
      "text/plain": "  0%|          | 0/1 [00:00<?, ?it/s]",
      "application/vnd.jupyter.widget-view+json": {
       "version_major": 2,
       "version_minor": 0,
       "model_id": "073207303a4346669c45d95e767a3efc"
      }
     },
     "metadata": {},
     "output_type": "display_data"
    },
    {
     "data": {
      "text/plain": "  0%|          | 0/500 [00:00<?, ?it/s]",
      "application/vnd.jupyter.widget-view+json": {
       "version_major": 2,
       "version_minor": 0,
       "model_id": "5a2014c4f0e14b2e8ee98be8b4010ff2"
      }
     },
     "metadata": {},
     "output_type": "display_data"
    },
    {
     "name": "stdout",
     "output_type": "stream",
     "text": [
      "features mean:  tensor(0.0007)\n",
      "features var:  tensor(6.4138e-17)\n"
     ]
    },
    {
     "data": {
      "text/plain": "  0%|          | 0/1 [00:00<?, ?it/s]",
      "application/vnd.jupyter.widget-view+json": {
       "version_major": 2,
       "version_minor": 0,
       "model_id": "51ab5fa87fa14f6389feeb47846c7049"
      }
     },
     "metadata": {},
     "output_type": "display_data"
    },
    {
     "data": {
      "text/plain": "  0%|          | 0/500 [00:00<?, ?it/s]",
      "application/vnd.jupyter.widget-view+json": {
       "version_major": 2,
       "version_minor": 0,
       "model_id": "e464afc2fc16431ca63f3bc61c26091b"
      }
     },
     "metadata": {},
     "output_type": "display_data"
    },
    {
     "name": "stdout",
     "output_type": "stream",
     "text": [
      "features mean:  tensor(0.0007)\n",
      "features var:  tensor(6.4138e-17)\n"
     ]
    },
    {
     "data": {
      "text/plain": "  0%|          | 0/1 [00:00<?, ?it/s]",
      "application/vnd.jupyter.widget-view+json": {
       "version_major": 2,
       "version_minor": 0,
       "model_id": "ca916340712441afaa36ce21bbbe5279"
      }
     },
     "metadata": {},
     "output_type": "display_data"
    },
    {
     "data": {
      "text/plain": "  0%|          | 0/500 [00:00<?, ?it/s]",
      "application/vnd.jupyter.widget-view+json": {
       "version_major": 2,
       "version_minor": 0,
       "model_id": "4b6469c4da2049a996180309d6291712"
      }
     },
     "metadata": {},
     "output_type": "display_data"
    },
    {
     "name": "stdout",
     "output_type": "stream",
     "text": [
      "features mean:  tensor(0.0007)\n",
      "features var:  tensor(6.4138e-17)\n"
     ]
    },
    {
     "data": {
      "text/plain": "  0%|          | 0/1 [00:00<?, ?it/s]",
      "application/vnd.jupyter.widget-view+json": {
       "version_major": 2,
       "version_minor": 0,
       "model_id": "28d69e9118c0413096f80ce82c8ec7b2"
      }
     },
     "metadata": {},
     "output_type": "display_data"
    },
    {
     "data": {
      "text/plain": "  0%|          | 0/500 [00:00<?, ?it/s]",
      "application/vnd.jupyter.widget-view+json": {
       "version_major": 2,
       "version_minor": 0,
       "model_id": "d883b92b56c74dd2a243c6771068d839"
      }
     },
     "metadata": {},
     "output_type": "display_data"
    },
    {
     "name": "stdout",
     "output_type": "stream",
     "text": [
      "features mean:  tensor(0.0007)\n",
      "features var:  tensor(6.4138e-17)\n"
     ]
    },
    {
     "data": {
      "text/plain": "  0%|          | 0/1 [00:00<?, ?it/s]",
      "application/vnd.jupyter.widget-view+json": {
       "version_major": 2,
       "version_minor": 0,
       "model_id": "5bae2bafea6c40099ed4b2dad3daaba1"
      }
     },
     "metadata": {},
     "output_type": "display_data"
    },
    {
     "data": {
      "text/plain": "  0%|          | 0/500 [00:00<?, ?it/s]",
      "application/vnd.jupyter.widget-view+json": {
       "version_major": 2,
       "version_minor": 0,
       "model_id": "c76fd251f341478c9908d50c3e163cf7"
      }
     },
     "metadata": {},
     "output_type": "display_data"
    },
    {
     "name": "stdout",
     "output_type": "stream",
     "text": [
      "features mean:  tensor(0.0007)\n",
      "features var:  tensor(6.4138e-17)\n"
     ]
    },
    {
     "data": {
      "text/plain": "  0%|          | 0/1 [00:00<?, ?it/s]",
      "application/vnd.jupyter.widget-view+json": {
       "version_major": 2,
       "version_minor": 0,
       "model_id": "da54c9b2a43e499591235d3ae2a8e513"
      }
     },
     "metadata": {},
     "output_type": "display_data"
    },
    {
     "data": {
      "text/plain": "  0%|          | 0/500 [00:00<?, ?it/s]",
      "application/vnd.jupyter.widget-view+json": {
       "version_major": 2,
       "version_minor": 0,
       "model_id": "4f68d1b37d2a4d20b460c088337069d0"
      }
     },
     "metadata": {},
     "output_type": "display_data"
    },
    {
     "name": "stdout",
     "output_type": "stream",
     "text": [
      "features mean:  tensor(0.0007)\n",
      "features var:  tensor(6.4138e-17)\n"
     ]
    },
    {
     "data": {
      "text/plain": "  0%|          | 0/1 [00:00<?, ?it/s]",
      "application/vnd.jupyter.widget-view+json": {
       "version_major": 2,
       "version_minor": 0,
       "model_id": "a36c762eb9a94015ab978f09c106c084"
      }
     },
     "metadata": {},
     "output_type": "display_data"
    },
    {
     "data": {
      "text/plain": "  0%|          | 0/500 [00:00<?, ?it/s]",
      "application/vnd.jupyter.widget-view+json": {
       "version_major": 2,
       "version_minor": 0,
       "model_id": "2fd9ab58f5b9432d9df45c5419274d3c"
      }
     },
     "metadata": {},
     "output_type": "display_data"
    },
    {
     "name": "stdout",
     "output_type": "stream",
     "text": [
      "features mean:  tensor(0.0007)\n",
      "features var:  tensor(6.4138e-17)\n"
     ]
    },
    {
     "data": {
      "text/plain": "  0%|          | 0/1 [00:00<?, ?it/s]",
      "application/vnd.jupyter.widget-view+json": {
       "version_major": 2,
       "version_minor": 0,
       "model_id": "a0275ce7605945f5a2001118ab5e760c"
      }
     },
     "metadata": {},
     "output_type": "display_data"
    },
    {
     "data": {
      "text/plain": "  0%|          | 0/500 [00:00<?, ?it/s]",
      "application/vnd.jupyter.widget-view+json": {
       "version_major": 2,
       "version_minor": 0,
       "model_id": "c0cb6cb96ac445bd8693e5b16cdfe290"
      }
     },
     "metadata": {},
     "output_type": "display_data"
    },
    {
     "name": "stdout",
     "output_type": "stream",
     "text": [
      "features mean:  tensor(0.0007)\n",
      "features var:  tensor(6.4138e-17)\n"
     ]
    },
    {
     "data": {
      "text/plain": "  0%|          | 0/1 [00:00<?, ?it/s]",
      "application/vnd.jupyter.widget-view+json": {
       "version_major": 2,
       "version_minor": 0,
       "model_id": "b3d1583a5b23430dbcf6e7f5470f2843"
      }
     },
     "metadata": {},
     "output_type": "display_data"
    },
    {
     "data": {
      "text/plain": "  0%|          | 0/500 [00:00<?, ?it/s]",
      "application/vnd.jupyter.widget-view+json": {
       "version_major": 2,
       "version_minor": 0,
       "model_id": "d2cc152db092484ea364bc272b2b6894"
      }
     },
     "metadata": {},
     "output_type": "display_data"
    },
    {
     "name": "stdout",
     "output_type": "stream",
     "text": [
      "features mean:  tensor(0.0007)\n",
      "features var:  tensor(6.4138e-17)\n"
     ]
    },
    {
     "data": {
      "text/plain": "  0%|          | 0/1 [00:00<?, ?it/s]",
      "application/vnd.jupyter.widget-view+json": {
       "version_major": 2,
       "version_minor": 0,
       "model_id": "5a5705b8be1e4be3bbdd489779be3302"
      }
     },
     "metadata": {},
     "output_type": "display_data"
    },
    {
     "data": {
      "text/plain": "  0%|          | 0/500 [00:00<?, ?it/s]",
      "application/vnd.jupyter.widget-view+json": {
       "version_major": 2,
       "version_minor": 0,
       "model_id": "ffefa5a3ae4144fc981eb9a30416105d"
      }
     },
     "metadata": {},
     "output_type": "display_data"
    },
    {
     "name": "stdout",
     "output_type": "stream",
     "text": [
      "features mean:  tensor(0.0007)\n",
      "features var:  tensor(6.4138e-17)\n"
     ]
    },
    {
     "data": {
      "text/plain": "  0%|          | 0/1 [00:00<?, ?it/s]",
      "application/vnd.jupyter.widget-view+json": {
       "version_major": 2,
       "version_minor": 0,
       "model_id": "bbe862a58ed14d149c1f52f8428ce2c2"
      }
     },
     "metadata": {},
     "output_type": "display_data"
    },
    {
     "data": {
      "text/plain": "  0%|          | 0/500 [00:00<?, ?it/s]",
      "application/vnd.jupyter.widget-view+json": {
       "version_major": 2,
       "version_minor": 0,
       "model_id": "a787eb9d5830448f8f02160a3cb616e0"
      }
     },
     "metadata": {},
     "output_type": "display_data"
    },
    {
     "name": "stdout",
     "output_type": "stream",
     "text": [
      "features mean:  tensor(0.0007)\n",
      "features var:  tensor(6.4138e-17)\n"
     ]
    },
    {
     "data": {
      "text/plain": "  0%|          | 0/1 [00:00<?, ?it/s]",
      "application/vnd.jupyter.widget-view+json": {
       "version_major": 2,
       "version_minor": 0,
       "model_id": "5d8ce1b236fc42ffbc64d6fd1d97baa9"
      }
     },
     "metadata": {},
     "output_type": "display_data"
    },
    {
     "data": {
      "text/plain": "  0%|          | 0/500 [00:00<?, ?it/s]",
      "application/vnd.jupyter.widget-view+json": {
       "version_major": 2,
       "version_minor": 0,
       "model_id": "5373a993da0841589b48f32c71030c2c"
      }
     },
     "metadata": {},
     "output_type": "display_data"
    },
    {
     "name": "stdout",
     "output_type": "stream",
     "text": [
      "features mean:  tensor(0.0007)\n",
      "features var:  tensor(6.4138e-17)\n"
     ]
    },
    {
     "data": {
      "text/plain": "  0%|          | 0/1 [00:00<?, ?it/s]",
      "application/vnd.jupyter.widget-view+json": {
       "version_major": 2,
       "version_minor": 0,
       "model_id": "18c7b6ab216e47eea99ce987456a4672"
      }
     },
     "metadata": {},
     "output_type": "display_data"
    },
    {
     "data": {
      "text/plain": "  0%|          | 0/500 [00:00<?, ?it/s]",
      "application/vnd.jupyter.widget-view+json": {
       "version_major": 2,
       "version_minor": 0,
       "model_id": "e15284f173664f6c85f863511c6e4ae3"
      }
     },
     "metadata": {},
     "output_type": "display_data"
    },
    {
     "name": "stdout",
     "output_type": "stream",
     "text": [
      "features mean:  tensor(0.0007)\n",
      "features var:  tensor(6.4138e-17)\n"
     ]
    },
    {
     "data": {
      "text/plain": "  0%|          | 0/1 [00:00<?, ?it/s]",
      "application/vnd.jupyter.widget-view+json": {
       "version_major": 2,
       "version_minor": 0,
       "model_id": "45ff093cbe774775843a7290dede3ac5"
      }
     },
     "metadata": {},
     "output_type": "display_data"
    },
    {
     "data": {
      "text/plain": "  0%|          | 0/500 [00:00<?, ?it/s]",
      "application/vnd.jupyter.widget-view+json": {
       "version_major": 2,
       "version_minor": 0,
       "model_id": "ae6be60a015543d9b5f51500fb39ff7d"
      }
     },
     "metadata": {},
     "output_type": "display_data"
    },
    {
     "name": "stdout",
     "output_type": "stream",
     "text": [
      "features mean:  tensor(0.0007)\n",
      "features var:  tensor(6.4138e-17)\n"
     ]
    },
    {
     "data": {
      "text/plain": "  0%|          | 0/1 [00:00<?, ?it/s]",
      "application/vnd.jupyter.widget-view+json": {
       "version_major": 2,
       "version_minor": 0,
       "model_id": "fa8fd9ad6e044103a324bf186d51b289"
      }
     },
     "metadata": {},
     "output_type": "display_data"
    },
    {
     "data": {
      "text/plain": "  0%|          | 0/500 [00:00<?, ?it/s]",
      "application/vnd.jupyter.widget-view+json": {
       "version_major": 2,
       "version_minor": 0,
       "model_id": "756b4b427cc543dd8c595dcfaa91ca05"
      }
     },
     "metadata": {},
     "output_type": "display_data"
    },
    {
     "name": "stdout",
     "output_type": "stream",
     "text": [
      "features mean:  tensor(0.0007)\n",
      "features var:  tensor(6.4138e-17)\n"
     ]
    },
    {
     "data": {
      "text/plain": "  0%|          | 0/1 [00:00<?, ?it/s]",
      "application/vnd.jupyter.widget-view+json": {
       "version_major": 2,
       "version_minor": 0,
       "model_id": "3791556036d74a62913c52f9451c8d96"
      }
     },
     "metadata": {},
     "output_type": "display_data"
    },
    {
     "data": {
      "text/plain": "  0%|          | 0/500 [00:00<?, ?it/s]",
      "application/vnd.jupyter.widget-view+json": {
       "version_major": 2,
       "version_minor": 0,
       "model_id": "3bbf3166f7a843ada45630f12b2a71ca"
      }
     },
     "metadata": {},
     "output_type": "display_data"
    },
    {
     "name": "stdout",
     "output_type": "stream",
     "text": [
      "features mean:  tensor(0.0007)\n",
      "features var:  tensor(6.4138e-17)\n"
     ]
    },
    {
     "data": {
      "text/plain": "  0%|          | 0/1 [00:00<?, ?it/s]",
      "application/vnd.jupyter.widget-view+json": {
       "version_major": 2,
       "version_minor": 0,
       "model_id": "14749759b03b453db747fe419c8baa48"
      }
     },
     "metadata": {},
     "output_type": "display_data"
    },
    {
     "data": {
      "text/plain": "  0%|          | 0/500 [00:00<?, ?it/s]",
      "application/vnd.jupyter.widget-view+json": {
       "version_major": 2,
       "version_minor": 0,
       "model_id": "ed7207b8ace84667bbe4225f0babe805"
      }
     },
     "metadata": {},
     "output_type": "display_data"
    },
    {
     "name": "stdout",
     "output_type": "stream",
     "text": [
      "features mean:  tensor(0.0007)\n",
      "features var:  tensor(6.4138e-17)\n"
     ]
    },
    {
     "data": {
      "text/plain": "  0%|          | 0/1 [00:00<?, ?it/s]",
      "application/vnd.jupyter.widget-view+json": {
       "version_major": 2,
       "version_minor": 0,
       "model_id": "a80d70ef521a418a8552dfddd5a83b99"
      }
     },
     "metadata": {},
     "output_type": "display_data"
    },
    {
     "data": {
      "text/plain": "  0%|          | 0/500 [00:00<?, ?it/s]",
      "application/vnd.jupyter.widget-view+json": {
       "version_major": 2,
       "version_minor": 0,
       "model_id": "1349acdabde44bae83063581940e6bbd"
      }
     },
     "metadata": {},
     "output_type": "display_data"
    },
    {
     "name": "stdout",
     "output_type": "stream",
     "text": [
      "features mean:  tensor(0.0007)\n",
      "features var:  tensor(6.4138e-17)\n"
     ]
    }
   ],
   "source": [
    "predictions, y_pred_avg = ensemble_models(\n",
    "    model_paths=[model_paths[5]], \n",
    "    cxr_filepath=cxr_filepath, \n",
    "    cxr_labels=cxr_labels, \n",
    "    cxr_pair_template=cxr_pair_template, \n",
    "    cache_dir=None,\n",
    ")"
   ]
  },
  {
   "cell_type": "code",
   "execution_count": 9,
   "metadata": {
    "ExecuteTime": {
     "end_time": "2025-02-26T05:31:51.073281Z",
     "start_time": "2025-02-26T05:31:51.036820Z"
    }
   },
   "outputs": [],
   "source": [
    "# # save averaged preds\n",
    "# pred_name = \"chexpert_preds.npy\" # add name of preds\n",
    "# predictions_dir = predictions_dir / pred_name\n",
    "# np.save(file=predictions_dir, arr=y_pred_avg)"
   ]
  },
  {
   "cell_type": "markdown",
   "metadata": {},
   "source": [
    "## (Optional) Evaluate Results\n",
    "If ground truth labels are available, compute AUC on each pathology to evaluate the performance of the zero-shot model. "
   ]
  },
  {
   "cell_type": "code",
   "outputs": [
    {
     "name": "stdout",
     "output_type": "stream",
     "text": [
      "500\n",
      "1\n"
     ]
    }
   ],
   "source": [
    "print(len(y_pred_avg))\n",
    "print(len(predictions))"
   ],
   "metadata": {
    "collapsed": false,
    "ExecuteTime": {
     "end_time": "2025-02-26T05:31:51.106470Z",
     "start_time": "2025-02-26T05:31:51.074879Z"
    }
   },
   "execution_count": 10
  },
  {
   "cell_type": "code",
   "execution_count": 11,
   "metadata": {
    "ExecuteTime": {
     "end_time": "2025-02-26T05:32:10.027365Z",
     "start_time": "2025-02-26T05:31:51.107863Z"
    }
   },
   "outputs": [
    {
     "data": {
      "text/plain": "  0%|          | 0/1000 [00:00<?, ?it/s]",
      "application/vnd.jupyter.widget-view+json": {
       "version_major": 2,
       "version_minor": 0,
       "model_id": "9835b200c1344eb7a92cdd704d814452"
      }
     },
     "metadata": {},
     "output_type": "display_data"
    }
   ],
   "source": [
    "# make test_true\n",
    "test_pred = y_pred_avg\n",
    "test_true = make_true_labels(cxr_true_labels_path=cxr_true_labels_path, cxr_labels=cxr_labels)\n",
    "# test_true = test_true[:len(test_pred)]\n",
    "# evaluate model\n",
    "cxr_results = evaluate(test_pred, test_true, cxr_labels)\n",
    "\n",
    "# boostrap evaluations for 95% confidence intervals\n",
    "bootstrap_results = bootstrap(test_pred, test_true, cxr_labels)"
   ]
  },
  {
   "cell_type": "code",
   "execution_count": 12,
   "metadata": {
    "ExecuteTime": {
     "end_time": "2025-02-26T05:32:10.098186Z",
     "start_time": "2025-02-26T05:32:10.029180Z"
    }
   },
   "outputs": [
    {
     "data": {
      "text/plain": "       Atelectasis_auc  Cardiomegaly_auc  Consolidation_auc  Edema_auc  \\\nmean            0.4951            0.5427             0.3696     0.5326   \nlower           0.4361            0.4974             0.2865     0.4691   \nupper           0.5487            0.5886             0.4539     0.5983   \n\n       Enlarged Cardiomediastinum_auc  Fracture_auc  Lung Lesion_auc  \\\nmean                           0.4755        0.4892           0.5578   \nlower                          0.4277        0.1807           0.3345   \nupper                          0.5238        0.9078           0.7802   \n\n       Lung Opacity_auc  No Finding_auc  Pleural Effusion_auc  \\\nmean             0.3987          0.5251                0.4690   \nlower            0.3487          0.4595                0.4171   \nupper            0.4479          0.5928                0.5257   \n\n       Pleural Other_auc  Pneumonia_auc  Pneumothorax_auc  Support Devices_auc  \nmean              0.7758         0.5695            0.4931               0.5259  \nlower             0.6265         0.4176            0.2976               0.4773  \nupper             0.9930         0.7127            0.6752               0.5760  ",
      "text/html": "<div>\n<style scoped>\n    .dataframe tbody tr th:only-of-type {\n        vertical-align: middle;\n    }\n\n    .dataframe tbody tr th {\n        vertical-align: top;\n    }\n\n    .dataframe thead th {\n        text-align: right;\n    }\n</style>\n<table border=\"1\" class=\"dataframe\">\n  <thead>\n    <tr style=\"text-align: right;\">\n      <th></th>\n      <th>Atelectasis_auc</th>\n      <th>Cardiomegaly_auc</th>\n      <th>Consolidation_auc</th>\n      <th>Edema_auc</th>\n      <th>Enlarged Cardiomediastinum_auc</th>\n      <th>Fracture_auc</th>\n      <th>Lung Lesion_auc</th>\n      <th>Lung Opacity_auc</th>\n      <th>No Finding_auc</th>\n      <th>Pleural Effusion_auc</th>\n      <th>Pleural Other_auc</th>\n      <th>Pneumonia_auc</th>\n      <th>Pneumothorax_auc</th>\n      <th>Support Devices_auc</th>\n    </tr>\n  </thead>\n  <tbody>\n    <tr>\n      <th>mean</th>\n      <td>0.4951</td>\n      <td>0.5427</td>\n      <td>0.3696</td>\n      <td>0.5326</td>\n      <td>0.4755</td>\n      <td>0.4892</td>\n      <td>0.5578</td>\n      <td>0.3987</td>\n      <td>0.5251</td>\n      <td>0.4690</td>\n      <td>0.7758</td>\n      <td>0.5695</td>\n      <td>0.4931</td>\n      <td>0.5259</td>\n    </tr>\n    <tr>\n      <th>lower</th>\n      <td>0.4361</td>\n      <td>0.4974</td>\n      <td>0.2865</td>\n      <td>0.4691</td>\n      <td>0.4277</td>\n      <td>0.1807</td>\n      <td>0.3345</td>\n      <td>0.3487</td>\n      <td>0.4595</td>\n      <td>0.4171</td>\n      <td>0.6265</td>\n      <td>0.4176</td>\n      <td>0.2976</td>\n      <td>0.4773</td>\n    </tr>\n    <tr>\n      <th>upper</th>\n      <td>0.5487</td>\n      <td>0.5886</td>\n      <td>0.4539</td>\n      <td>0.5983</td>\n      <td>0.5238</td>\n      <td>0.9078</td>\n      <td>0.7802</td>\n      <td>0.4479</td>\n      <td>0.5928</td>\n      <td>0.5257</td>\n      <td>0.9930</td>\n      <td>0.7127</td>\n      <td>0.6752</td>\n      <td>0.5760</td>\n    </tr>\n  </tbody>\n</table>\n</div>"
     },
     "execution_count": 12,
     "metadata": {},
     "output_type": "execute_result"
    }
   ],
   "source": [
    "# display AUC with confidence intervals\n",
    "bootstrap_results[1]"
   ]
  },
  {
   "cell_type": "code",
   "execution_count": 13,
   "metadata": {
    "ExecuteTime": {
     "end_time": "2025-02-26T05:32:10.167021Z",
     "start_time": "2025-02-26T05:32:10.099794Z"
    }
   },
   "outputs": [
    {
     "name": "stdout",
     "output_type": "stream",
     "text": [
      "<class 'pandas.core.frame.DataFrame'>\n",
      "Index(['Atelectasis_auc', 'Cardiomegaly_auc', 'Consolidation_auc', 'Edema_auc',\n",
      "       'Enlarged Cardiomediastinum_auc', 'Fracture_auc', 'Lung Lesion_auc',\n",
      "       'Lung Opacity_auc', 'No Finding_auc', 'Pleural Effusion_auc',\n",
      "       'Pleural Other_auc', 'Pneumonia_auc', 'Pneumothorax_auc',\n",
      "       'Support Devices_auc'],\n",
      "      dtype='object')\n"
     ]
    },
    {
     "data": {
      "text/plain": "count    1000.000000\nmean        0.481777\nstd         0.031065\nmin         0.385397\n25%         0.460893\n50%         0.481367\n75%         0.502181\nmax         0.596797\ndtype: float64"
     },
     "execution_count": 13,
     "metadata": {},
     "output_type": "execute_result"
    }
   ],
   "source": [
    "df = bootstrap_results[0]\n",
    "\n",
    "print(type(df))\n",
    "\n",
    "print(df.columns)\n",
    "\n",
    "df = df[['Atelectasis_auc','Cardiomegaly_auc','Consolidation_auc','Edema_auc','Pleural Effusion_auc']]\n",
    "\n",
    "df.describe().T.mean()"
   ]
  },
  {
   "cell_type": "code",
   "outputs": [
    {
     "data": {
      "text/plain": "count    998.642857\nmean       0.515681\nstd        0.058571\nmin        0.344134\n25%        0.477015\n50%        0.515603\n75%        0.553076\nmax        0.699771\ndtype: float64"
     },
     "execution_count": 14,
     "metadata": {},
     "output_type": "execute_result"
    }
   ],
   "source": [
    "df_2 = bootstrap_results[0]\n",
    "df_2.describe().T.mean()"
   ],
   "metadata": {
    "collapsed": false,
    "ExecuteTime": {
     "end_time": "2025-02-26T05:32:10.254137Z",
     "start_time": "2025-02-26T05:32:10.169791Z"
    }
   },
   "execution_count": 14
  },
  {
   "cell_type": "code",
   "outputs": [],
   "source": [],
   "metadata": {
    "collapsed": false,
    "ExecuteTime": {
     "end_time": "2025-02-26T05:32:10.258791Z",
     "start_time": "2025-02-26T05:32:10.255554Z"
    }
   },
   "execution_count": 14
  }
 ],
 "metadata": {
  "interpreter": {
   "hash": "b0fa6594d8f4cbf19f97940f81e996739fb7646882a419484c72d19e05852a7e"
  },
  "kernelspec": {
   "display_name": "Python 3",
   "language": "python",
   "name": "python3"
  },
  "language_info": {
   "codemirror_mode": {
    "name": "ipython",
    "version": 3
   },
   "file_extension": ".py",
   "mimetype": "text/x-python",
   "name": "python",
   "nbconvert_exporter": "python",
   "pygments_lexer": "ipython3",
   "version": "3.8.5"
  }
 },
 "nbformat": 4,
 "nbformat_minor": 2
}
